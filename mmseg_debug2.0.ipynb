{
 "cells": [
  {
   "cell_type": "markdown",
   "metadata": {
    "collapsed": false
   },
   "source": [
    "配置环境，第一次运行时执行"
   ]
  },
  {
   "cell_type": "code",
   "execution_count": 1,
   "metadata": {
    "tags": []
   },
   "outputs": [],
   "source": [
    "from IPython.display import clear_output\n",
    "\n",
    "!pip install -U openmim\n",
    "!mim install git+https://github.com/open-mmlab/mmengine.git  # 0.7.2\n",
    "!mim install \"mmcv==2.0.0\"\n",
    "\n",
    "!git clone https://github.com/ZJLauu/mmsegmentation.git -b bi_she\n",
    "%cd mmsegmentation\n",
    "!pip install -e.\n",
    "%cd ..\n",
    "\n",
    "clear_output()"
   ]
  },
  {
   "cell_type": "markdown",
   "metadata": {
    "collapsed": false
   },
   "source": [
    "验证环境"
   ]
  },
  {
   "cell_type": "code",
   "execution_count": 2,
   "metadata": {
    "tags": []
   },
   "outputs": [
    {
     "name": "stderr",
     "output_type": "stream",
     "text": [
      "c:\\Users\\ldp\\.conda\\envs\\mm2\\lib\\site-packages\\tqdm\\auto.py:21: TqdmWarning: IProgress not found. Please update jupyter and ipywidgets. See https://ipywidgets.readthedocs.io/en/stable/user_install.html\n",
      "  from .autonotebook import tqdm as notebook_tqdm\n"
     ]
    },
    {
     "name": "stdout",
     "output_type": "stream",
     "text": [
      "1.13.0+cu116 True\n"
     ]
    },
    {
     "ename": "ModuleNotFoundError",
     "evalue": "No module named 'mmseg'",
     "output_type": "error",
     "traceback": [
      "\u001b[1;31m---------------------------------------------------------------------------\u001b[0m",
      "\u001b[1;31mModuleNotFoundError\u001b[0m                       Traceback (most recent call last)",
      "Cell \u001b[1;32mIn[2], line 5\u001b[0m\n\u001b[0;32m      2\u001b[0m \u001b[38;5;28mprint\u001b[39m(torch\u001b[38;5;241m.\u001b[39m__version__, torch\u001b[38;5;241m.\u001b[39mcuda\u001b[38;5;241m.\u001b[39mis_available())\n\u001b[0;32m      4\u001b[0m \u001b[38;5;66;03m# Check MMSegmentation installation\u001b[39;00m\n\u001b[1;32m----> 5\u001b[0m \u001b[38;5;28;01mimport\u001b[39;00m \u001b[38;5;21;01mmmseg\u001b[39;00m\n\u001b[0;32m      6\u001b[0m \u001b[38;5;28mprint\u001b[39m(mmseg\u001b[38;5;241m.\u001b[39m__version__)\n\u001b[0;32m      8\u001b[0m \u001b[38;5;66;03m# Check mmcv installation\u001b[39;00m\n",
      "\u001b[1;31mModuleNotFoundError\u001b[0m: No module named 'mmseg'"
     ]
    }
   ],
   "source": [
    "import torch\n",
    "print(torch.__version__, torch.cuda.is_available())\n",
    " \n",
    "# Check MMSegmentation installation\n",
    "import mmseg\n",
    "print(mmseg.__version__)\n",
    " \n",
    "# Check mmcv installation\n",
    "from mmcv.ops import get_compiling_cuda_version, get_compiler_version\n",
    "print(get_compiling_cuda_version())\n",
    "print(get_compiler_version())"
   ]
  },
  {
   "cell_type": "code",
   "execution_count": 2,
   "metadata": {
    "tags": []
   },
   "outputs": [
    {
     "name": "stdout",
     "output_type": "stream",
     "text": [
      "Tue Apr 25 15:06:00 2023       \n",
      "+-----------------------------------------------------------------------------+\n",
      "| NVIDIA-SMI 525.89.02    Driver Version: 525.89.02    CUDA Version: 12.0     |\n",
      "|-------------------------------+----------------------+----------------------+\n",
      "| GPU  Name        Persistence-M| Bus-Id        Disp.A | Volatile Uncorr. ECC |\n",
      "| Fan  Temp  Perf  Pwr:Usage/Cap|         Memory-Usage | GPU-Util  Compute M. |\n",
      "|                               |                      |               MIG M. |\n",
      "|===============================+======================+======================|\n",
      "|   0  NVIDIA GeForce ...  On   | 00000000:56:00.0 Off |                  N/A |\n",
      "| 30%   26C    P8    35W / 350W |      2MiB / 24576MiB |      0%      Default |\n",
      "|                               |                      |                  N/A |\n",
      "+-------------------------------+----------------------+----------------------+\n",
      "                                                                               \n",
      "+-----------------------------------------------------------------------------+\n",
      "| Processes:                                                                  |\n",
      "|  GPU   GI   CI        PID   Type   Process name                  GPU Memory |\n",
      "|        ID   ID                                                   Usage      |\n",
      "|=============================================================================|\n",
      "|  No running processes found                                                 |\n",
      "+-----------------------------------------------------------------------------+\n"
     ]
    }
   ],
   "source": [
    "!nvidia-smi"
   ]
  },
  {
   "cell_type": "code",
   "execution_count": 3,
   "metadata": {
    "ExecuteTime": {
     "end_time": "2023-04-16T19:32:36.535671Z",
     "start_time": "2023-04-16T19:32:33.053602Z"
    },
    "tags": []
   },
   "outputs": [],
   "source": [
    "from mmengine import Config\n",
    "from mmengine.runner import Runner"
   ]
  },
  {
   "cell_type": "markdown",
   "metadata": {},
   "source": [
    "# train"
   ]
  },
  {
   "cell_type": "code",
   "execution_count": null,
   "metadata": {
    "ExecuteTime": {
     "end_time": "2023-04-16T19:47:23.045940Z",
     "start_time": "2023-04-16T19:47:22.967940Z"
    },
    "scrolled": true,
    "tags": []
   },
   "outputs": [],
   "source": [
    "cfg = Config.fromfile('/root/autodl-tmp/configs/Tr_base2.0.py')\n",
    "\n",
    "cfg.data_root = '/root/autodl-tmp/Trans10K_cls12'\n",
    "cfg.experiment_name = f'SegTrue_1.5e-5_160k_b8_0.75-1.5-crop512-512'\n",
    "cfg.work_dir = f'/root/autodl-tmp/work_dir/{cfg.experiment_name}'\n",
    "\n",
    "# cfg.resume = True\n",
    "# cfg.load_from = '/root/autodl-tmp/work_dir/SegTru_1.5e-5_160k_b8_0.75-1.5-crop512-512/iter_146000.pth'\n",
    "cfg.load_from = None\n",
    "# cfg.custom_hooks[0].resume = cfg.resume  # ema\n",
    "\n",
    "cfg.visualizer.save_dir = cfg.work_dir\n",
    "\n",
    "cfg.train_dataloader.batch_size = 8\n",
    "\n",
    "cfg.optim_wrapper.optimizer.lr = 1.5e-5\n",
    "\n",
    "cfg.train_cfg.max_iters = 160000\n",
    "cfg.train_cfg.val_interval = cfg.default_hooks.checkpoint.interval = int(cfg.train_cfg.max_iters / 80 )\n",
    "cfg.default_hooks.logger.interval= int(cfg.train_cfg.val_interval / 8)\n",
    "\n",
    "cfg.param_scheduler[0].start_factor = 1e-6\n",
    "cfg.param_scheduler[0].end = int(cfg.train_cfg.max_iters / 100)  # warm-up steps\n",
    "cfg.param_scheduler[1].begin = cfg.param_scheduler[0].end\n",
    "cfg.param_scheduler[1].end = cfg.train_cfg.max_iters\n",
    "cfg.default_hooks.logger.interval_exp_name = cfg.train_cfg.val_interval\n",
    "# cfg.custom_hooks[0].begin_iter = cfg.param_scheduler[1].begin  # ema\n",
    "\n",
    "print(f'Config:\\n{cfg.pretty_text}')"
   ]
  },
  {
   "cell_type": "code",
   "execution_count": null,
   "metadata": {
    "ExecuteTime": {
     "end_time": "2023-04-15T23:27:57.619837Z",
     "start_time": "2023-04-15T18:02:04.720574Z"
    },
    "scrolled": true,
    "tags": []
   },
   "outputs": [],
   "source": [
    "runner = Runner.from_cfg(cfg)\n",
    "runner.train()"
   ]
  },
  {
   "cell_type": "markdown",
   "metadata": {},
   "source": [
    "# test"
   ]
  },
  {
   "cell_type": "code",
   "execution_count": null,
   "metadata": {
    "ExecuteTime": {
     "end_time": "2023-04-14T10:39:29.207267Z",
     "start_time": "2023-04-14T10:35:47.014966Z"
    },
    "scrolled": true,
    "tags": []
   },
   "outputs": [],
   "source": [
    "import os\n",
    "from mmengine import Config\n",
    "from mmengine.runner import Runner\n",
    "import warnings\n",
    "warnings.filterwarnings(\"ignore\")\n",
    "work_dir = 'work_dir/SegTrue_1.5e-5_160k_b8_0.75-1.5-crop512-512'\n",
    "ckpt = 'best_mIoU_iter_116000.pth'\n",
    "\n",
    "test_cfg = Config.fromfile(f'{work_dir}/Tr_base2.0.py')\n",
    "test_cfg.resume = False\n",
    "test_cfg.load_from = os.path.join(work_dir, ckpt)\n",
    "test_cfg.visualizer.save_dir = test_cfg.work_dir = os.path.join(work_dir, 'test')\n",
    "\n",
    "test_runner = Runner.from_cfg(test_cfg)\n",
    "test_runner.test()"
   ]
  },
  {
   "cell_type": "code",
   "execution_count": null,
   "metadata": {
    "collapsed": false
   },
   "outputs": [],
   "source": []
  }
 ],
 "metadata": {
  "kernelspec": {
   "display_name": "Python 3 (ipykernel)",
   "language": "python",
   "name": "python3"
  },
  "language_info": {
   "codemirror_mode": {
    "name": "ipython",
    "version": 3
   },
   "file_extension": ".py",
   "mimetype": "text/x-python",
   "name": "python",
   "nbconvert_exporter": "python",
   "pygments_lexer": "ipython3",
   "version": "0.0.0"
  }
 },
 "nbformat": 4,
 "nbformat_minor": 4
}
